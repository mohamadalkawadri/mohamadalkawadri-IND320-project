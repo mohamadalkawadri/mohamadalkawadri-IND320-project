{
 "cells": [
  {
   "cell_type": "markdown",
   "id": "353ceb2d",
   "metadata": {},
   "source": [
    "Github: https://github.com/mohamadalkawadri/mohamadalkawadri-IND320-project"
   ]
  },
  {
   "cell_type": "markdown",
   "id": "0c9ead43",
   "metadata": {},
   "source": []
  }
 ],
 "metadata": {
  "language_info": {
   "name": "python"
  }
 },
 "nbformat": 4,
 "nbformat_minor": 5
}
